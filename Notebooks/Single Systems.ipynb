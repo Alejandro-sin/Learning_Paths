{
 "cells": [
  {
   "cell_type": "markdown",
   "metadata": {},
   "source": [
    "# Sistemas Individuales\n",
    "\n",
    "\n",
    "\n"
   ]
  },
  {
   "cell_type": "code",
   "execution_count": 66,
   "metadata": {},
   "outputs": [],
   "source": [
    "import numpy as np\n",
    "from qiskit.quantum_info import Statevector\n",
    "from qiskit.quantum_info import Operator\n",
    "from qiskit import QuantumCircuit"
   ]
  },
  {
   "cell_type": "markdown",
   "metadata": {},
   "source": [
    "Cuando hablamos de **sistemas individuales**, nos referimos al estudio y comprensión de un único estado cuántico en un dispositivo. Esta comprensión es fundamental para escalar estos sistemas y hacerlos operar junto con otros más complejos.\n"
   ]
  },
  {
   "cell_type": "markdown",
   "metadata": {},
   "source": [
    "# Introducción\n",
    "\n",
    "La idea es explorar los paralelos que existen en la información clásica e información cuántica. Veremos unas definiciones que nos permitirán construir una intuición de computo cuántico a partir de conjunto de términos de encontraremos en teoría probabilidades básicas y álgebra lineal. \n",
    "\n",
    "- **Información Clásica**\n",
    "- **Información Cuántica**\n",
    "    1. **Vectores de Estado Cuántico**: Representación matemática de los estados cuánticos mediante vectores con entradas complejas.\n",
    "    2. **Mediciones en la Base Estándar**: Cómo extraer información clásica de estados cuánticos a través de mediciones.\n",
    "    3. **Operaciones Unitarias**: Descripción de la evolución temporal de sistemas cuánticos mediante matrices unitarias."
   ]
  },
  {
   "cell_type": "markdown",
   "metadata": {},
   "source": [
    "### Descripciones de información cuántica\n",
    "\n",
    "Existen dos descripciones fundamentales para entender la **información cuántica**:\n",
    "\n",
    "- **Descripción Simplificada**: Los estados cuánticos se representan como **vectores** y las operaciones como **matrices unitarias**. Esta descripción es adecuada para sistemas ideales sin ruido y es suficiente para comprender muchos algoritmos cuánticos.\n",
    "- **Descripción General**: En presencia de **ruido**, es más apropiado utilizar **matrices de densidad** para representar los estados cuánticos. Esta descripción permite modelar efectos de decoherencia y es esencial para estudios avanzados en teoría de la información cuántica y criptografía cuántica.\n",
    "\n",
    "Tanto la descripción simplificada como la **información clásica** pueden considerarse casos particulares dentro de la **teoría general de la información cuántica**."
   ]
  },
  {
   "cell_type": "markdown",
   "metadata": {},
   "source": [
    "### Información Clásica\n",
    "\n",
    "Para comprender la información cuántica, es útil revisar primero los conceptos de **información clásica**. Consideremos un sistema que almacena información clásica, al que llamaremos $X$. Este sistema tiene un conjunto finito y no vacío de **estados clásicos**, denotado como $\\Sigma$.\n",
    " \n",
    "Por ejemplo:\n",
    "\n",
    "- Si $X$ es un **bit**, entonces sus estados posibles son: \n",
    "\t$$\\Sigma = \\{0, 1\\}$$\n",
    "- Si $X$ es un **dado de seis caras**, entonces: \n",
    "$$\\Sigma = \\{1, 2, 3, 4, 5, 6\\}$$\n",
    "\n",
    "Consideremos que estamos estudiando un bit, que solo alberga 0 y 1.\n",
    "\n",
    "$$X_{\\{0,1\\}}$$ \n",
    "\n",
    "\n",
    "En el **procesamiento de la información**, a menudo trabajamos con situaciones donde nuestro conocimiento sobre el estado de $X$ es **incierto**. Podemos representar esta incertidumbre asignando **probabilidades** a cada estado clásico. Por ejemplo, si $X$ es un bit y lo tenemos guardado en una caja que no podemos ver,  podemos tenerlo en el estado clásico de 0 o 1, en si no vemos la probabilidad,  tenemos un estado concreto cuando vemos el estado, a estos dos estados los podremos asignar de manera arbitraria con cierta probabilidad de ser, denotada así:\n",
    "\n",
    "$$Pr(X=0)= \\frac{3}{4}$$\n",
    "$$Pr(X=1)= \\frac{1}{4}$$\n",
    "Si sumamos las fracciones anteriores tenemos que ambas probabilidades suman la unidad.  Estas probabilidades deben cumplir que su suma es igual a 1. \n",
    "\n",
    "Podemos representar este estado probabilístico mediante un **vector de probabilidad** en la que todas las entradas son número reales no negativos:\n",
    "\n",
    "$$\\mathbf{Pv} = \\begin{pmatrix} \\frac{3}{4} \\\\ \\frac{1}{4}  \\end{pmatrix}$$\n",
    "\n"
   ]
  },
  {
   "cell_type": "code",
   "execution_count": 67,
   "metadata": {},
   "outputs": [
    {
     "data": {
      "text/plain": [
       "array([0.75, 0.25])"
      ]
     },
     "execution_count": 67,
     "metadata": {},
     "output_type": "execute_result"
    }
   ],
   "source": [
    "# Podemos crearlo sin problemas con numpy\n",
    "pv = np.array([3/4, 1/4])\n",
    "pv # array([0.75, 0.25])"
   ]
  },
  {
   "cell_type": "markdown",
   "metadata": {},
   "source": [
    "### Notación de Dirac\n",
    "\n",
    "\n",
    "La **Notación de Dirac** es ampliamente utilizada en mecánica cuántica para simplificar la representación de vectores y facilitar el cálculo de operaciones. En computación cuántica, es esencial para lograr un entendimiento común sobre el orden y la naturaleza de las operaciones. Esta notación permite representar tanto vectores columna (**ket**) como vectores fila (**bra**)."
   ]
  },
  {
   "cell_type": "markdown",
   "metadata": {},
   "source": [
    "#### Ket\n",
    "\n",
    "Se presentan a continuación las bases más relevantes, como un **Ket**:\n",
    "\n",
    "$$\\mathbf{\\Ket{0}} = \\begin{pmatrix} 1 \\\\ 0 \\end{pmatrix}$$\n",
    "$$\\mathbf{\\Ket{1}} = \\begin{pmatrix} 0 \\\\ 1 \\end{pmatrix}$$\n",
    "\n",
    "- $\\ket{0}$ y $\\ket{1}$ forman una base ortonormal en un espacio de Hilbert de dos dimensiones.\n",
    "\n"
   ]
  },
  {
   "cell_type": "code",
   "execution_count": 68,
   "metadata": {},
   "outputs": [],
   "source": [
    "# Vectores ket\n",
    "ket_0 = np.array([[1],\n",
    "                  [0]])\n",
    "ket_1 = np.array([[0],\n",
    "                  [1]])"
   ]
  },
  {
   "cell_type": "markdown",
   "metadata": {},
   "source": [
    "Podemos expresar cualquier vector en sus vectores base, cada vector puede ser expresado como una combinación lineal única. Este es un principio fundamental en espacios vectoriales. Por ejemplo podríamos representar el ejemplo anterior así:\n",
    "\n",
    "$$ \\begin{pmatrix} \\frac{3}{4} \\\\ \\frac{1}{4}  \\end{pmatrix}=\\frac{3}{4}\\ket{0} + \\frac{1}{4}\\ket{1}$$\n",
    "\n",
    "Este vector podría representar, por ejemplo, un estado probabilístico en un sistema clásico o un estado cuántico si se interpretan los coeficientes adecuadamente. "
   ]
  },
  {
   "cell_type": "code",
   "execution_count": 69,
   "metadata": {},
   "outputs": [
    {
     "name": "stdout",
     "output_type": "stream",
     "text": [
      "Estado combinado |ψ>:\n",
      " [[0.75]\n",
      " [0.25]]\n"
     ]
    }
   ],
   "source": [
    "# Coeficientes de la combinación lineal\n",
    "alpha = 3/4\n",
    "beta = 1/4\n",
    "\n",
    "# Estado combinado\n",
    "ket_combined = alpha * ket_0 + beta * ket_1\n",
    "\n",
    "# El estado previo denotado por la variable pv\n",
    "print(\"Estado combinado |\\u03C8>:\\n\", ket_combined)\n"
   ]
  },
  {
   "cell_type": "markdown",
   "metadata": {},
   "source": [
    "#### Bra\n",
    "\n",
    "Cuando estamos hablando en términos de filas $\\bra{a}$ , usaremos la anterior notación. **Bra**, estos son los vectores duales de los **Ket** y que se obtienen mediante la transposición y conjugación compleja.\n",
    "\n",
    "$$\\bra{0}=(1 0)$$ \n",
    "$$\\bra{1}=(0 1)$$"
   ]
  },
  {
   "cell_type": "code",
   "execution_count": 70,
   "metadata": {},
   "outputs": [],
   "source": [
    "# Vectores bra (conjugado transpuesto de los ket)\n",
    "bra_0 = ket_0.conj().T\n",
    "bra_1 = ket_1.conj().T"
   ]
  },
  {
   "cell_type": "markdown",
   "metadata": {},
   "source": [
    "#### **Producto Interno (Bra-Ket)**\n",
    "\n",
    "\n",
    "En general al multiplicar un **Bra** por un **Ket**, podemos pensarlos como una multiplicación entre una fila y una columna. Se obtiene el **producto interno**, que es un escalar.\n",
    "\n",
    "$$\\begin{pmatrix} * & *  \\end{pmatrix} \\begin{pmatrix} * \\\\ *  \\end{pmatrix}=(*)$$\n",
    "$$\\braket{a|b} = \\bra{a}\\ket{b}$$\n",
    "\n"
   ]
  },
  {
   "cell_type": "markdown",
   "metadata": {},
   "source": [
    "Veamos varios ejemplos para familiarizarnos con la notación y sus alcances tempranos.\n",
    "\n",
    "- Para estados ortogonales:\n",
    "$$\\braket{0|1} = \\begin{pmatrix} 1 & 0 \\end{pmatrix} \\begin{pmatrix} 0 \\\\ 1 \\end{pmatrix} = 0\n",
    "0$$\n",
    "\n",
    "$$\\braket{0|1} = \\begin{pmatrix} 1 & 0 \\end{pmatrix} \\begin{pmatrix} 0 \\\\ 1 \\end{pmatrix} = (1 \\cdot 0) + (0 \\cdot 1) = 0 + 0 = 0$$\n"
   ]
  },
  {
   "cell_type": "code",
   "execution_count": 71,
   "metadata": {},
   "outputs": [
    {
     "name": "stdout",
     "output_type": "stream",
     "text": [
      "<0|1> = 0\n"
     ]
    }
   ],
   "source": [
    "# Producto interno entre <0| y |1>\n",
    "inner_product_01 = np.dot(bra_0, ket_1)\n",
    "print(\"<0|1> =\", inner_product_01[0][0])\n"
   ]
  },
  {
   "cell_type": "markdown",
   "metadata": {},
   "source": [
    "\n",
    "- Para estados idénticos, es decir cuando ambas entradas son 0, es un prodcuto entro dos vectores:\n",
    "\t\n",
    "$$\\braket{0|0} = \\begin{pmatrix} 1 & 0 \\end{pmatrix} \\begin{pmatrix} 1 \\\\ 0 \\end{pmatrix} = 1$$\n",
    "\n",
    "$$\n",
    "\\braket{0|0} = \\begin{pmatrix} 1 & 0 \\end{pmatrix} \\begin{pmatrix} 1 \\\\ 0 \\end{pmatrix} = (1 \\cdot 1) + (0 \\cdot 0) = 1 + 0 = 1\n",
    "$$"
   ]
  },
  {
   "cell_type": "code",
   "execution_count": 72,
   "metadata": {},
   "outputs": [
    {
     "name": "stdout",
     "output_type": "stream",
     "text": [
      "<0|0> = 1\n"
     ]
    }
   ],
   "source": [
    "# Producto interno entre <0| y |0>\n",
    "inner_product_00 = np.dot(bra_0, ket_0)\n",
    "print(\"<0|0> =\", inner_product_00[0][0])"
   ]
  },
  {
   "cell_type": "markdown",
   "metadata": {},
   "source": [
    "Por ejemplo si las entradas están alineadas tendremos que el resultado es 1, de lo contrario será 0. Entradas alineadas:\n",
    "\n",
    "$$\\begin{pmatrix} 0 & 1 & 0  \\end{pmatrix} \\begin{pmatrix} 0 \\\\ 1 \\\\ 0 \\end{pmatrix}=(1)$$\n",
    "\n",
    "$$\n",
    "\\begin{pmatrix} 0 & 1 & 0 \\end{pmatrix} \\begin{pmatrix} 0 \\\\ 1 \\\\ 0 \\end{pmatrix} = (0 \\cdot 0) + (1 \\cdot 1) + (0 \\cdot 0) = 0 + 1 + 0 = 1\n",
    "$$\n",
    "\n",
    "Entradas no alineadas, harán que cada porducto sea 0 y al suamr dará 0\n",
    "$$\\begin{pmatrix} 1 & 0 & 0  \\end{pmatrix} \\begin{pmatrix} 0 \\\\ 1 \\\\ 0 \\end{pmatrix}=(0)$$\n",
    "\n",
    "La operación anterior la podemos expresar como $\\braket{a|b}$, lo cual también podemos llamar **Producto Interno**. \n",
    "$$\\braket{a|b} = \\bra{a}\\ket{b}$$"
   ]
  },
  {
   "cell_type": "markdown",
   "metadata": {},
   "source": [
    "\n",
    "#### Multiplicación Ket-Bra y Operadores\n",
    "\n",
    "\n",
    "El orden importa, si multiplicamos un **Ket** * **Bra** el resultado será una matriz, o también llamado un **operador**:\n",
    "\n",
    "$$\\begin{pmatrix} * \\\\ *  \\end{pmatrix}\\begin{pmatrix} * & *  \\end{pmatrix} =\\begin{pmatrix} * & * \\\\ * & * \\end{pmatrix} $$"
   ]
  },
  {
   "cell_type": "markdown",
   "metadata": {},
   "source": [
    "En el alfabeto binario si multiplicamos un **Ket** por un **Bra** tendríamos algo así:\n",
    "\n",
    "- **Operador de proyección** en $\\ket{0}$, el operador está definido por la siguiente formalidad: $\\hat{P} = \\ket{\\psi}\\bra{\\psi}$.\n",
    "\n",
    "    - **Propiedad:** El operador $\\hat{P}$ proyecta cualquier estado $\\ket{\\phi}$ en el estado $\\ket{\\psi}$, en otras palabras.\n",
    "\n",
    "$$\\ket{0}\\bra{0} = \\begin{pmatrix} 1 \\\\ 0  \\end{pmatrix}\\begin{pmatrix} 1 & 0  \\end{pmatrix} =\\begin{pmatrix} 1 & 0 \\\\ 0 & 0 \\end{pmatrix}  $$\n",
    "\n"
   ]
  },
  {
   "cell_type": "markdown",
   "metadata": {},
   "source": [
    "Si continuamos cambiando el estado determinista en las posiciones del 1, podremos ver que la entrada con 1 se mueve a en la matriz. \n",
    "\n",
    "- **Operador de transición** de $\\ket{1}$ a $\\ket{0}$:\n",
    "$$\\ket{0}\\bra{1} = \\begin{pmatrix} 1 \\\\ 0  \\end{pmatrix}\\begin{pmatrix} 0 & 1  \\end{pmatrix} =\\begin{pmatrix} 0 & 1 \\\\ 0 & 0 \\end{pmatrix}  $$\n",
    "\n",
    "Estas operaciones deterministas abren juego a que trabajemos con operaciones matriciales  y entender su conexión."
   ]
  },
  {
   "cell_type": "code",
   "execution_count": 73,
   "metadata": {},
   "outputs": [
    {
     "name": "stdout",
     "output_type": "stream",
     "text": [
      "Operador |0><0|:\n",
      " [[1 0]\n",
      " [0 0]]\n",
      "Operador |0><1|:\n",
      " [[0 1]\n",
      " [0 0]]\n"
     ]
    }
   ],
   "source": [
    "# Operador proyección |0><0|\n",
    "operator_00 = np.dot(ket_0, bra_0)\n",
    "print(\"Operador |0><0|:\\n\", operator_00)\n",
    "\n",
    "# Operador transición |0><1|\n",
    "operator_01 = np.dot(ket_0, bra_1)\n",
    "print(\"Operador |0><1|:\\n\", operator_01)\n"
   ]
  },
  {
   "cell_type": "code",
   "execution_count": 74,
   "metadata": {},
   "outputs": [
    {
     "data": {
      "text/plain": [
       "array([1, 0])"
      ]
     },
     "execution_count": 74,
     "metadata": {},
     "output_type": "execute_result"
    }
   ],
   "source": [
    "# Podemos usar matmul para matrix-matrix or matrix vector multiplciation\n",
    "M1 = np.array([[1, 1], [0, 0]])\n",
    "M2 = np.array([[1, 1], [1, 0]])\n",
    "ket1 = np.array([0, 1])\n",
    "\n",
    "np.matmul(M1, ket1)"
   ]
  },
  {
   "cell_type": "markdown",
   "metadata": {},
   "source": [
    "### Midiendo Estados Probabilísticos\n",
    "\n",
    "Cuando observamos el sistema $X$ mientras está en un **estado probabilístico**, lo que veremos es un **estado clásico** seleccionado aleatoriamente de acuerdo con las **probabilidades** asignadas. Por ejemplo, si hay una probabilidad de $\\dfrac{3}{4}$ de que $X=0$ y una probabilidad de $\\dfrac{1}{4}$ de que $X=1$, al medir el sistema observaremos el estado $0$ con probabilidad $\\dfrac{3}{4}$ y el estado $1$ con probabilidad $\\dfrac{1}{4}$."
   ]
  },
  {
   "cell_type": "markdown",
   "metadata": {},
   "source": [
    "La medición cambia nuestro conocimiento sobre el sistema y, por lo tanto, actualiza el estado probabilístico que le asociamos. Si reconocemos que $X$ está en el estado clásico $a \\in \\Sigma$, entonces el nuevo vector de probabilidad que representa nuestro conocimiento es un vector que tiene un $1$ en la entrada correspondiente a $a$ y $0$ en las demás. Esto indica que ahora sabemos con certeza que $X$ está en el estado $a$."
   ]
  },
  {
   "cell_type": "markdown",
   "metadata": {},
   "source": [
    "Denotamos este vector como $\\ket{a}$, conocido como un **vector base estándar** o **ket**. Por ejemplo, si el sistema es un bit, los vectores base son:\n",
    "\n",
    "$$\\ket{0} = \\begin{pmatrix} 1 \\\\ 0 \\end{pmatrix}, \\quad \\ket{1} = \\begin{pmatrix} 0 \\\\ 1 \\end{pmatrix}\n",
    "$$\n",
    "\n",
    "\n",
    "Cualquier vector columna de dos dimensiones puede expresarse como una **combinación lineal** de estos vectores. Por ejemplo:\n",
    "\n",
    "$$\\begin{pmatrix} \\dfrac{3}{4} \\\\[2mm] \\dfrac{1}{4} \\end{pmatrix} = \\dfrac{3}{4}\\ket{0} + \\dfrac{1}{4}\\ket{1}$$\n",
    "\n",
    "\n",
    "Este concepto se generaliza a cualquier conjunto de estados clásicos: cualquier vector de probabilidad puede expresarse como una combinación lineal de los estados base correspondientes.\n",
    "\n"
   ]
  },
  {
   "cell_type": "markdown",
   "metadata": {},
   "source": [
    "#### Ejemplo con una Moneda\n",
    "\n",
    "Supongamos que lanzamos una moneda justa y la cubrimos antes de observarla. El estado probabilístico de la moneda es:\n",
    "\n",
    "\n",
    "$$\\begin{pmatrix} \\dfrac{1}{2} \\\\[2mm] \\dfrac{1}{2} \\end{pmatrix} = \\dfrac{1}{2}\\ket{\\text{cara}} + \\dfrac{1}{2}\\ket{\\text{cruz}}\n",
    "$$\n",
    "Donde los vectores base son:\n",
    "\n",
    "$$\\ket{\\text{cara}} = \\begin{pmatrix} 1 \\\\ 0 \\end{pmatrix}, \\quad \\ket{\\text{cruz}} = \\begin{pmatrix} 0 \\\\ 1 \\end{pmatrix}$$\n",
    "\n",
    "Al descubrir la moneda y observarla, veremos uno de los dos estados clásicos: \"cara\" o \"cruz\". Si el resultado es \"cruz\", actualizamos nuestra descripción del estado probabilístico a:\n",
    "\n",
    "$$\\ket{\\text{cruz}} = \\begin{pmatrix} 0 \\\\ 1 \\end{pmatrix}\n",
    "$$\n",
    "\n",
    "Si volviéramos a cubrir y descubrir la moneda, seguiríamos observando \"cruz\", lo cual es consistente con el estado probabilístico actualizado. Este proceso demuestra cómo la medición afecta nuestro conocimiento del sistema, pero no necesariamente cambia el estado físico real.\n",
    "\n",
    "Es importante notar que las mediciones de estados probabilísticos pueden representar nuestro **conocimiento o creencia**, no necesariamente el estado físico actual del sistema. Diferentes observadores pueden tener diferentes vectores de probabilidad asociados al mismo sistema, dependiendo de la información que tengan"
   ]
  },
  {
   "cell_type": "markdown",
   "metadata": {},
   "source": [
    "### Operaciones Deterministas\n",
    "\n",
    "Estas operaciones no tienen ninguna aleatoreidad o incertidumbre asociada, podemos describir estas operaciones como una función, donde $f:\\Sigma$  ->$\\Sigma$ expresando que esta función simplemente transforma el estado clásico $a$ en $f(a)$ para cada $a$ que pertenece a $\\Sigma$.\n",
    "\n",
    "Dada cualquier función, existirá una matriz $M$ única que satisface:\n",
    "\n",
    "$$M\\ket{a} = \\ket{f(a)}$$\n",
    "\n",
    "Nos interesa entender de lo anterior lo siguiente, cuando estamos trabajando con estados probabilísticos y realizamos una operación determinística en este sistema, el resultado probabilístico que resulta puede ser obtenido por una multiplicación **Matriz-Vector**, es decir si tenemos un vector v, que es probabilístico y realizamos una operación determinista, obtendremos un resultado probabilista expresado por el producto de esta matriz y el vector original. Es decir, \"mapearemos\" el vector probabilístico a otro.\n",
    "\n",
    "$$v \\mapsto Mv$$\n",
    "Si seguimos utilizando la notación de Bra-Ket para representar nuestros vectores,  podemos representar:\n",
    "\n",
    "$$M\\ket{a} = \\ket{f(a)} (1.1)$$ \n",
    "Podemos expresar la matriz en términos de :\n",
    "\n",
    "$$M= \\Sigma_{b\\epsilon\\Sigma}\\ket{f(b)}\\bra{b}$$\n",
    "Si reemplazáramos esto en la ecuación (1.1),  resultaríamos con la siguiente expresión para M, y como de antemano sabemos del alfabeto de vectores unitarios, que el resultado de operarlos entre sí en cierto orden, determina que sus entradas y productos resulten en 0 o en 1,de la siguiente formula entre $a$ y $b$ podemos decir si el producto será ceros o unos, dado que **la operación de un vector fila y una columna es siempre un escalar**.\n",
    "\n",
    "\n",
    "$$M= \\Sigma_{b\\epsilon\\Sigma}\\ket{f(b)}\\braket{b|a}$$"
   ]
  },
  {
   "cell_type": "markdown",
   "metadata": {},
   "source": [
    "\n",
    "### Operaciones Probabilísticas\n",
    "\n",
    "\n",
    "Son operaciones clásicas que pueden introducir incertidumbre o aleatoriedad, es decir son un cas especial de las operaciones determinísticas que asignan de manera arbitraria determinada probabilidad al bit. \n",
    "**Ejemplo**:\n",
    "- Si tenemos que nuestro Bit vale 0, entonces no haga nada.\n",
    "- Si nuestro Bit vale 1, entonces asigna la probabilidad de $\\frac{1}{2}$\n",
    "\n",
    "Podemos representar estas operaciones en una matriz estocástica, estas matrices se caracterizan porque en todas ss entradas tenemos números de forma que al sumar cada entrada en cada columna debe sumar 1, ejemplo, la primera matriz puede expresarse en su factores, y de alguna manera tendríamos una especia de \"aleatoreidad\" o distribución de probabilides harcodeada que usaremos para ciertas operaciones deterministas.\n",
    "\n",
    "$$\\begin{pmatrix} \\frac{1}{2} & 1 \\\\ \\frac{1}{2} & 0 \\end{pmatrix}= \\frac{1}{2}\\begin{pmatrix} 1 & 0 \\\\ 0 & 1 \\end{pmatrix} + \\frac{1}{2}\\begin{pmatrix} 1 & 1 \\\\ 0 & 0 \\end{pmatrix} $$"
   ]
  },
  {
   "cell_type": "markdown",
   "metadata": {},
   "source": [
    "### Componiendo Operaciones\n",
    "\n",
    "El termino de **Componer** operaciones hace referencia a aplicar diferentes operaciones matriciales una tras otra, utilizando nuestras matrices aleatorias, podemos aplicar sobre un vector.. \n",
    "\n",
    "\n",
    "$$M_{2}(M_{1}v) = (M_{2}M_{1})v $$\n",
    "\n",
    "\n",
    "Es importante entender que cada vez que apliquemos estas operaciones nuestro resultado siempre será estocástico, ya que no podemos salirnos de este set de resultados. El orden importa en el momento de realizar multiplicaciones entre las matrices, no es lo mismo *\"Succionar un cigarrillo antes de encenderlo es diferente que encender el cigarillo y succionar\".  \n",
    "\n",
    "De allí que la representación de las operaciones de las matrices vayan de $M_{(n...1)}$ y que estén agrupadas en fila. Las operaciones se pueden agrupar en el orden que se van aplicando al vector.\n",
    "\n"
   ]
  },
  {
   "cell_type": "markdown",
   "metadata": {},
   "source": [
    "## Información Cuántica\n",
    "\n",
    "\n",
    "Un estado cuántico de un sistema es representado por un vector columna el cual:\n",
    "\n",
    "- Sus entradas son números complejos, ( En comparación con las operaciones deterministas)\n",
    "- Y la suma de los valores absolutos al cuadrado de todas las entradas debe ser igual a 1, es decir si calculamos la distancia euclidiana o la norma euclidiana, podremos verificar que el vector es en efecto un estado cuántico válido.\n",
    "$$|a|^2 + |b|^2 = 1$$\n",
    "\n",
    "En un nivel físico se encuentra que modelar estos sistemas en términos de vectores, es una representación válida y acertada, y en términos computacionales significa que las entradas 0 y 1, son números complejos, $0 + i$, $1 + i$, donde $i=0$.\n",
    "\n",
    "Ejemplos de estados cuánticos, en particular no tienen ningún nombre, pero son estados recurrentes que veremos en computación cuántica. \n",
    "\n",
    "$$\\ket{+} = \\frac{1}{\\sqrt{2}}\\ket{0} + \\frac{1}{\\sqrt{2}}\\ket{1}$$\n",
    "$$\\ket{-} = \\frac{1}{\\sqrt{2}}\\ket{0} - \\frac{1}{\\sqrt{2}}\\ket{1}$$"
   ]
  },
  {
   "cell_type": "markdown",
   "metadata": {},
   "source": [
    "### Midiendo estados cuánticos\n",
    "\n",
    "¿Qué podemos hacer con un estado cuántico?, ¿Para qué tenerlo en vectores?, ¿Cómo interactuar con este?.\n",
    "\n",
    "Es el mecanismo de extraer información clásica de estaos estados cuánticos. No podemos ver estados probabilísticos, vemos estados clásicos. La medición es lo que nos dará esa interface.\n",
    "\n",
    "- **Standard Basis Measurement**\n",
    "- **Projection Measurement**\n",
    "- **POVM**: Positive Objective Measurement.\n",
    "\n",
    "La forma de medición estándar para un estado cuántico, será una forma de medición que tenemos. Cuando queremos medir un estado cuántico obtendremos información clásica de este:\n",
    "\n",
    "-  Los posibles resultados son estados clásicos.\n",
    "- La probabilidad para cada estado clásico  de ser el resultado es:\n",
    "\t$$|a|^2 + |b|^2 = 1$$\n",
    "Por ejemplo si tomamos como ejemplo el Ket +, tendremos que produciría un resultado del tipo:\n",
    "$$\\ket{+} = \\frac{1}{\\sqrt{2}}\\ket{0} + \\frac{1}{\\sqrt{2}}\\ket{1}$$\n",
    "\n",
    "$$Pr(Resultado - 0) = |\\frac{1}{\\sqrt{2}}|^2 =\\frac{1}{2}$$\n",
    "$$Pr(Resultado - 1) = |\\frac{1}{\\sqrt{2}}|^2 =\\frac{1}{2}$$\n",
    "Ambas probabilidades son la misma, por lo que si medimos, obtendríamos una bit que viene de una distribución aleatoria uniforme de  50 %.  Si midiéramos el $\\Ket{0}$ y $\\Ket{1}$ darían 0 y 1 en sus estados clásicos. Porque el valor absoluto al cuadrado de 0 y 1, son 0 y 1 respectivamente. Aquí es donde empezamos a hablar de que este estado colapsa, y matemáticamente lo podríamos explorar así aunque aún sea un tema de trabajo en mecánica cuántica."
   ]
  },
  {
   "cell_type": "code",
   "execution_count": 75,
   "metadata": {},
   "outputs": [
    {
     "name": "stdout",
     "output_type": "stream",
     "text": [
      "State vectors u, v, and w have been defined.\n"
     ]
    }
   ],
   "source": [
    "u = Statevector([1 / np.sqrt(2), 1 / np.sqrt(2)])\n",
    "v = Statevector([(1 + 2.0j) / 3, -2 / 3])\n",
    "w = Statevector([1 / 3, 2 / 3]) # Mal vector\n",
    "\n",
    "print(\"State vectors u, v, and w have been defined.\")"
   ]
  },
  {
   "cell_type": "code",
   "execution_count": 76,
   "metadata": {},
   "outputs": [
    {
     "data": {
      "text/latex": [
       "$$\\frac{\\sqrt{2}}{2} |0\\rangle+\\frac{\\sqrt{2}}{2} |1\\rangle$$"
      ],
      "text/plain": [
       "<IPython.core.display.Latex object>"
      ]
     },
     "metadata": {},
     "output_type": "display_data"
    },
    {
     "data": {
      "text/plain": [
       "[ 0.33333333+0.66666667j,-0.66666667+0.j        ]"
      ]
     },
     "metadata": {},
     "output_type": "display_data"
    }
   ],
   "source": [
    "display(u.draw(\"latex\"))\n",
    "display(v.draw(\"text\"))"
   ]
  },
  {
   "cell_type": "code",
   "execution_count": 77,
   "metadata": {},
   "outputs": [
    {
     "data": {
      "text/plain": [
       "True"
      ]
     },
     "metadata": {},
     "output_type": "display_data"
    },
    {
     "data": {
      "text/plain": [
       "False"
      ]
     },
     "metadata": {},
     "output_type": "display_data"
    }
   ],
   "source": [
    "# Podemos comprobar si es un vector válido así:\n",
    "display(u.is_valid())\n",
    "display(w.is_valid())"
   ]
  },
  {
   "cell_type": "markdown",
   "metadata": {},
   "source": [
    "Para realziar mediciones en estádos válidos solo necesitamos utilizar este método. Pata visualizar las probabilidades de tener 0,1, lo que haremos será realizar una simulación de \"número de mediciones\" para el sistema, y así tener una muestra representativa. De las probabilidades\n"
   ]
  },
  {
   "cell_type": "code",
   "execution_count": 78,
   "metadata": {},
   "outputs": [
    {
     "data": {
      "text/plain": [
       "(np.str_('0'),\n",
       " Statevector([0.4472136+0.89442719j, 0.       +0.j        ],\n",
       "             dims=(2,)))"
      ]
     },
     "execution_count": 78,
     "metadata": {},
     "output_type": "execute_result"
    }
   ],
   "source": [
    "v.measure()"
   ]
  },
  {
   "cell_type": "code",
   "execution_count": 79,
   "metadata": {},
   "outputs": [
    {
     "data": {
      "text/plain": [
       "{np.str_('0'): np.int64(565), np.str_('1'): np.int64(435)}"
      ]
     },
     "metadata": {},
     "output_type": "display_data"
    },
    {
     "data": {
      "image/png": "[encoded data removed]",
      "text/plain": [
       "<Figure size 640x480 with 1 Axes>"
      ]
     },
     "execution_count": 79,
     "metadata": {},
     "output_type": "execute_result"
    }
   ],
   "source": [
    "from qiskit.visualization import plot_histogram\n",
    "\n",
    "statistics = v.sample_counts(1000)\n",
    "display(statistics)\n",
    "plot_histogram(statistics)"
   ]
  },
  {
   "cell_type": "markdown",
   "metadata": {},
   "source": [
    "\n",
    "### Operaciones Unitarias\n",
    "\n",
    "\n",
    "Las operaciones permitidas que se pueden realizar sobre un estado cuántico son diferentes a las permitidas en la información clásica. En vez de representar una matriz estocástica para un vector clásico, en información clásica hablaremos de **Matrices Unitarias**.\n",
    "\n",
    "Es una matriz cuadrada $U$ que tiene números complejos de entradas, es unitaria si satisface la igualdad:\n",
    "$$U^\\dagger U = 1 = UU^\\dagger$$ \n",
    "Donde la operación con la daga, expresa lo que es la transpuesta conjugada de la matriz. Dee cumplirse que al calcular la norma euclidiana entre la matriz $U$ y un vector $v$ debe ser así:\n",
    "\n",
    "$$||Uv||=||v||$$\n",
    "Esto define ese conjunto de operacioens que vamos a precisar considerar siempre que trabajemos con matrices probabilisticas"
   ]
  },
  {
   "cell_type": "code",
   "execution_count": 80,
   "metadata": {},
   "outputs": [],
   "source": [
    "# Creemos un estado vector sencillo\n",
    "v = Statevector([1, 0])"
   ]
  },
  {
   "cell_type": "markdown",
   "metadata": {},
   "source": [
    "### Qubit Unitary Operations\n",
    "\n",
    "Las transformaciones de un estado cuántico son transformaciones lienales efectuadas por una matriz unitaria, u operadores unitarios que tranforman el estado cuántico en otro estado cuántico, la idea es variar las probabilidades. \n",
    "\n",
    "(Matrices de Pauli) Son las llamadas operaciones de pauli, son hermiticas y tienen su adjunto.X y Z son llamadas bip flip y phase flip dado que estas compuertas hacen un cambioTh del estado.\n",
    "\n",
    "$$X\\ket{0}=\\ket{1}$$\n",
    "\n",
    "####  Flip Phase para los dos estados.\n",
    "\n",
    "$$Z\\ket{0}=\\ket{0}$$\n",
    "\n",
    "$$Z\\ket{1}=-\\ket{1}$$"
   ]
  },
  {
   "cell_type": "code",
   "execution_count": 81,
   "metadata": {},
   "outputs": [
    {
     "data": {
      "text/plain": [
       "[1.+0.j,0.+0.j]"
      ]
     },
     "execution_count": 81,
     "metadata": {},
     "output_type": "execute_result"
    }
   ],
   "source": [
    "X = Operator([[0, 1], [1, 0]])\n",
    "v.evolve(X)\n",
    "v.draw(\"text\")"
   ]
  },
  {
   "cell_type": "markdown",
   "metadata": {},
   "source": [
    "Este cambio habla de dos compuertas aplicadas en un estado cuántico `Statevector`"
   ]
  },
  {
   "cell_type": "code",
   "execution_count": 82,
   "metadata": {},
   "outputs": [
    {
     "data": {
      "text/plain": [
       "[1.+0.j,0.+0.j]"
      ]
     },
     "execution_count": 82,
     "metadata": {},
     "output_type": "execute_result"
    }
   ],
   "source": [
    "Y = Operator([[0, -1.0j], [1.0j, 0]])\n",
    "Z = Operator([[1, 0], [0, -1]])\n",
    "v.evolve(Y)\n",
    "v.evolve(Z)\n",
    "v.draw(\"text\")"
   ]
  },
  {
   "cell_type": "markdown",
   "metadata": {},
   "source": [
    "#### Operación de Hadamard\n",
    "\n",
    "Es quizá uno de los operadores más relevantes cuando estamos hablando de computación cuántica en el sentido de que no existe un análogo en computación clásica que facilite describir este comportamiento. Aquí tenemos acción de esta compuerta sobre los siguientes estados:\n",
    "\n",
    "$$\n",
    "\n",
    "H |0\\rangle = H \\begin{bmatrix} 1 \\\\ 0 \\end{bmatrix} \n",
    "= \\frac{1}{\\sqrt{2}} \\begin{bmatrix} 1 & 1 \\\\ 1 & -1 \\end{bmatrix} \n",
    "\\begin{bmatrix} 1 \\\\ 0 \\end{bmatrix} \n",
    "= \\frac{1}{\\sqrt{2}} \\begin{bmatrix} 1 \\\\ 1 \\end{bmatrix} \n",
    "= |+\\rangle $$\n",
    "\n",
    "$$\n",
    "H |1\\rangle = H \\begin{bmatrix} 0 \\\\ 1 \\end{bmatrix} \n",
    "= \\frac{1}{\\sqrt{2}} \\begin{bmatrix} 1 & 1 \\\\ 1 & -1 \\end{bmatrix} \n",
    "\\begin{bmatrix} 0 \\\\ 1 \\end{bmatrix} \n",
    "= \\frac{1}{\\sqrt{2}} \\begin{bmatrix} 1 \\\\ -1 \\end{bmatrix} \n",
    "= |-\\rangle\n",
    "$$\n",
    "\n",
    "Aquí podemos apreciar el comportamiento de Hamadar aplicado a estados superpuestos, lo cua facilitará ver la propiedad de ser reversibles una vez más.\n",
    "\n",
    "$$\n",
    "\n",
    "H |+\\rangle = H \\frac{1}{\\sqrt{2}} \\begin{bmatrix} 1 \\\\ 1 \\end{bmatrix} \n",
    "= \\frac{1}{\\sqrt{2}} \\begin{bmatrix} 1 & 1 \\\\ 1 & -1 \\end{bmatrix} \n",
    "\\frac{1}{\\sqrt{2}} \\begin{bmatrix} 1 \\\\ 1 \\end{bmatrix} \n",
    "= \\begin{bmatrix} 1 \\\\ 0 \\end{bmatrix} \n",
    "= |0\\rangle\n",
    "$$\n",
    "\n",
    "$$\n",
    "H |-\\rangle = H \\frac{1}{\\sqrt{2}} \\begin{bmatrix} 1 \\\\ -1 \\end{bmatrix} \n",
    "= \\frac{1}{\\sqrt{2}} \\begin{bmatrix} 1 & 1 \\\\ 1 & -1 \\end{bmatrix} \n",
    "\\frac{1}{\\sqrt{2}} \\begin{bmatrix} 1 \\\\ -1 \\end{bmatrix} \n",
    "= \\begin{bmatrix} 0 \\\\ 1 \\end{bmatrix} \n",
    "= |1\\rangle\n",
    "\n",
    "\n",
    "$$"
   ]
  },
  {
   "cell_type": "markdown",
   "metadata": {},
   "source": [
    "#### Phase Operation\n",
    "\n",
    "\n",
    "Son todas las operacioens que pueden describirse por la matriz, donde \"tetha\" es cualquier número real y el componente inferior siempre será un número complejo\n",
    "\n",
    "$$P_{\\theta} = \\begin{pmatrix} 1 & 0 \\\\ 0 & e^{i\\theta} \\end{pmatrix} $$\n",
    "Por ejemplo podemos usar **S**, **T**, para cambiar la fase.\n",
    "\n",
    "$$S_{\\frac{\\pi}{2}} = \\begin{pmatrix} 1 & 0 \\\\ 0 & i \\end{pmatrix} $$\n",
    "$$T_{\\frac{\\pi}{4}} = \\begin{pmatrix} 1 & 0 \\\\ 0 & \\frac{1+i}{\\sqrt{2}} \\end{pmatrix} $$\n",
    "Este es un ejemplo de cómo operarían ls computeras de Hadamard sobre un estado de un qubit cualquiera:\n",
    "\n",
    "$$H(\\frac{1+2i}{3}\\ket{0}- \\frac{2}{3}\\ket{1})=\\begin{pmatrix} \\frac{1}{\\sqrt{2}} & \\frac{1}{\\sqrt{2}} \\\\ \\frac{1}{\\sqrt{2}} & -\\frac{1}{\\sqrt{2}} \\end{pmatrix}\\begin{pmatrix} \\frac{1+2i}{\\sqrt{3}} \\\\ -\\frac{2}{3} \\end{pmatrix}= \\begin{pmatrix} \\frac{-1+2i}{3\\sqrt{2}} \\\\ \\frac{2}{3\\sqrt{2}} \\end{pmatrix}$$\n"
   ]
  },
  {
   "cell_type": "markdown",
   "metadata": {},
   "source": [
    "El resultado anterior se puede convertir por conveniencia a la notación de dirac.\n",
    "\n",
    "$$\\frac{-1+2i}{3\\sqrt{2}} \\ket{0} + \\frac{2}{3\\sqrt{2}} \\ket{1}$$\n",
    "\n",
    "Lo que nos interesa saber de las operaciones unitarias cuánticas es:\n",
    "\n",
    "1. Son operaciones que dado su linealidad al multiplicar las matrices y vectores tenemos una forma fácil  y sencilla de operar los estados cuánticos con matrices unitarias que afectarán las amplitudes de probabilidad, que en ultimas nos retorna la probabilidad de tener 0 o 1.\n",
    "\n",
    "2. Dado lo anterior tenemos muchas formas de \"mover las perillas\" que son caminos o rutas de este estado para alcanzar un resultado.\n",
    "\n",
    "3. Las operaciones cuánticas dado su **reversibilidad**, permiten \"retroceder\" al estado anterior. Podría pensarlo como un \"espejo\", pero no significa que el estado anterior sea el mismo que el inicial. $HSH$\n"
   ]
  },
  {
   "cell_type": "code",
   "execution_count": 83,
   "metadata": {},
   "outputs": [],
   "source": [
    "H = Operator([[1 / np.sqrt(2), 1 / np.sqrt(2)], [1 / np.sqrt(2), -1 / np.sqrt(2)]])\n",
    "S = Operator([[1, 0], [0, 1.0j]])\n",
    "T = Operator([[1, 0], [0, (1 + 1.0j) / np.sqrt(2)]])\n",
    "\n",
    "v = v.evolve(H)\n",
    "v = v.evolve(T)\n",
    "v = v.evolve(H)\n",
    "v = v.evolve(T)\n",
    "v = v.evolve(Z)"
   ]
  },
  {
   "cell_type": "markdown",
   "metadata": {},
   "source": [
    "### Composisción de operaciones unitarias.\n",
    "\n",
    "La composición de operaciones unitarias está representado por una multiplicación de matrices. Donde el orden se copone de derecha a izquierda donde la matiz mas próxima es la que se aplica primero. Por ejemplo en el circuito $HSH$ Tenemos un estado resultante que expresa las operaciones aplicadas sobre el estado del qubit. $HSH^2$ al hacer dos veces esta misma operación, obtenemos el estado inicial invertido, como si lo hubiéramos cambiado de valor de 0 a 1 con una compuerta $X$\n"
   ]
  },
  {
   "cell_type": "markdown",
   "metadata": {},
   "source": [
    "$$\n",
    "R = HSH = \\begin{bmatrix} \\frac{1}{\\sqrt{2}} && \\frac{1}{\\sqrt{2}} \\\\ \\frac{1}{\\sqrt{2}} && -\\frac{1}{\\sqrt{2}} \\end{bmatrix}\n",
    "\\begin{bmatrix} 1 && 0 \\\\ 0 && i \\end{bmatrix}\n",
    "\\begin{bmatrix} \\frac{1}{\\sqrt{2}} && \\frac{1}{\\sqrt{2}} \\\\ \\frac{1}{\\sqrt{2}} && -\\frac{1}{\\sqrt{2}} \\end{bmatrix}  \n",
    "$$"
   ]
  },
  {
   "cell_type": "markdown",
   "metadata": {},
   "source": [
    "Esta composición es particualrmente interesante, si tomamos la raíz cuadrada de $R^2$ equivale a operar dos vez la compuerta **NOT** , esta operación es interesante y difiere a lo clásico porque al tomar la raíz cuadrada de un número negativo no es posible."
   ]
  },
  {
   "cell_type": "code",
   "execution_count": 92,
   "metadata": {},
   "outputs": [
    {
     "data": {
      "text/html": [
       "<pre style=\"word-wrap: normal;white-space: pre;background: #fff0;line-height: 1.1;font-family: &quot;Courier New&quot;,Courier,monospace\">   ┌───┐┌───┐┌───┐\n",
       "q: ┤ H ├┤ S ├┤ H ├\n",
       "   └───┘└───┘└───┘</pre>"
      ],
      "text/plain": [
       "   ┌───┐┌───┐┌───┐\n",
       "q: ┤ H ├┤ S ├┤ H ├\n",
       "   └───┘└───┘└───┘"
      ]
     },
     "execution_count": 92,
     "metadata": {},
     "output_type": "execute_result"
    }
   ],
   "source": [
    "# Muestra elemental de circuito HSH\n",
    "circuit = QuantumCircuit(1)\n",
    "\n",
    "circuit.h(0)\n",
    "circuit.s(0)\n",
    "circuit.h(0)\n",
    "\n",
    "circuit.draw()"
   ]
  },
  {
   "cell_type": "code",
   "execution_count": 94,
   "metadata": {},
   "outputs": [
    {
     "data": {
      "text/plain": [
       "[0.5+0.5j,0.5-0.5j]"
      ]
     },
     "execution_count": 94,
     "metadata": {},
     "output_type": "execute_result"
    }
   ],
   "source": [
    "# Si quisieramos hacerlo evolucionar tendríamos que pasarle el circuito anterior al statevector:\n",
    "ket0 = Statevector([1, 0])\n",
    "v = ket0.evolve(circuit)\n",
    "v.draw(\"text\")"
   ]
  },
  {
   "cell_type": "code",
   "execution_count": 95,
   "metadata": {},
   "outputs": [
    {
     "data": {
      "text/plain": [
       "[0.+0.j,1.+0.j]"
      ]
     },
     "execution_count": 95,
     "metadata": {},
     "output_type": "execute_result"
    }
   ],
   "source": [
    "w = v.evolve(circuit)\n",
    "w.draw(\"text\") # Para mostrar la reversibilidad"
   ]
  },
  {
   "cell_type": "code",
   "execution_count": null,
   "metadata": {},
   "outputs": [],
   "source": []
  }
 ],
 "metadata": {
  "kernelspec": {
   "display_name": "_env",
   "language": "python",
   "name": "python3"
  },
  "language_info": {
   "codemirror_mode": {
    "name": "ipython",
    "version": 3
   },
   "file_extension": ".py",
   "mimetype": "text/x-python",
   "name": "python",
   "nbconvert_exporter": "python",
   "pygments_lexer": "ipython3",
   "version": "3.12.7"
  },
  "orig_nbformat": 4
 },
 "nbformat": 4,
 "nbformat_minor": 2
}
